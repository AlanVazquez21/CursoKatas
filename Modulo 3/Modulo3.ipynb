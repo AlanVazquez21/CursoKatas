{
 "cells": [
  {
   "cell_type": "code",
   "execution_count": null,
   "metadata": {},
   "outputs": [],
   "source": []
  },
  {
   "cell_type": "markdown",
   "metadata": {},
   "source": [
    "# Problema 1"
   ]
  },
  {
   "cell_type": "code",
   "execution_count": 2,
   "metadata": {},
   "outputs": [
    {
     "name": "stdout",
     "output_type": "stream",
     "text": [
      "Alerta, se acerca un asteroide a alta velocidad!\n"
     ]
    }
   ],
   "source": [
    "asteroide = 49\n",
    "if asteroide > 25:\n",
    "    print(\"Alerta, se acerca un asteroide a alta velocidad!\")\n",
    "else:\n",
    "    print(\"Todo bien, sigue con tu vida :D\")"
   ]
  },
  {
   "cell_type": "markdown",
   "metadata": {},
   "source": [
    "# Problema 2 "
   ]
  },
  {
   "cell_type": "code",
   "execution_count": 3,
   "metadata": {},
   "outputs": [
    {
     "name": "stdout",
     "output_type": "stream",
     "text": [
      "No hay nada que ver\n"
     ]
    }
   ],
   "source": [
    "asteroide = 19\n",
    "if asteroide > 20:\n",
    "    print(\"Voltea al cielo, hay un asteroide pasando\")\n",
    "elif asteroide == 20:\n",
    "    print(\"Voltea al cielo, hay un asteroide pasando\")\n",
    "else:\n",
    "    print(\"No hay nada que ver\")"
   ]
  },
  {
   "cell_type": "markdown",
   "metadata": {},
   "source": [
    "# Problema 3"
   ]
  },
  {
   "cell_type": "code",
   "execution_count": 1,
   "metadata": {},
   "outputs": [
    {
     "name": "stdout",
     "output_type": "stream",
     "text": [
      "Voltea al cielo, hay un asteroide pasando\n"
     ]
    }
   ],
   "source": [
    "velocidad =  25\n",
    "tamano = 40\n",
    "if velocidad > 25 and tamano > 25:\n",
    "    print(\"Se acerca un asteroide muy peligroso\")\n",
    "elif velocidad >= 20:\n",
    "    print(\"Voltea al cielo, hay un asteroide pasando\")\n",
    "elif tamano > 25:\n",
    "    print(\"Se acerca un asteroide muy grande\")\n",
    "elif tamano < 25:\n",
    "    print(\"No pasa nada\")\n",
    "else:\n",
    "    print(\"No pasa nada\")"
   ]
  },
  {
   "cell_type": "markdown",
   "metadata": {},
   "source": [
    "# Problema 3 V.2"
   ]
  },
  {
   "cell_type": "code",
   "execution_count": null,
   "metadata": {},
   "outputs": [],
   "source": [
    "velocidad =  input(\"velocidad\")\n",
    "tamano = input (\"tamaño\")\n",
    "if int(velocidad) > 25 and int(tamano) > 25:\n",
    "    print(\"Se acerca un asteroide muy peligroso\")\n",
    "elif int(velocidad) >= 20:\n",
    "    print(\"Voltea al cielo, hay un asteroide pasando\")\n",
    "elif int(tamano) > 25:\n",
    "    print(\"Se acerca un asteroide muy grande\")\n",
    "elif int(tamano) < 25:\n",
    "    print(\"No pasa nada\")\n",
    "else:\n",
    "    print(\"No pasa nada\")"
   ]
  }
 ],
 "metadata": {
  "interpreter": {
   "hash": "0a81184f6c8b89faa63577cb44cbd838349f7bc18a7add2bb8e91fb9af2cd2c9"
  },
  "kernelspec": {
   "display_name": "Python 3.10.1 64-bit",
   "language": "python",
   "name": "python3"
  },
  "language_info": {
   "codemirror_mode": {
    "name": "ipython",
    "version": 3
   },
   "file_extension": ".py",
   "mimetype": "text/x-python",
   "name": "python",
   "nbconvert_exporter": "python",
   "pygments_lexer": "ipython3",
   "version": "3.10.1"
  },
  "orig_nbformat": 4
 },
 "nbformat": 4,
 "nbformat_minor": 2
}
