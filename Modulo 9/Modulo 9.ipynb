{
 "cells": [
  {
   "cell_type": "markdown",
   "metadata": {},
   "source": [
    "# Ejercicio 2: Trabajar con argumentos en funciones"
   ]
  },
  {
   "cell_type": "code",
   "execution_count": 10,
   "metadata": {},
   "outputs": [],
   "source": [
    "def medidas(tanque1, tanque2, tanque3):\n",
    "    promedio = (tanque1 + tanque2 + tanque3) / 3  \n",
    "    return f\"\"\"Informe:\n",
    "    Promedio: {promedio}%\n",
    "    Tanque 1: {tanque1}%\n",
    "    Tanque 2: {tanque2}%\n",
    "    Tanque 3: {tanque3}%\n",
    "    \"\"\""
   ]
  },
  {
   "cell_type": "code",
   "execution_count": 15,
   "metadata": {},
   "outputs": [
    {
     "name": "stdout",
     "output_type": "stream",
     "text": [
      "informe:\n",
      "    Promedio: 68.66666666666667%\n",
      "    Tanque 1: 60%\n",
      "    Tanque 2: 57%\n",
      "    Tanque 3: 89%\n",
      "    \n"
     ]
    }
   ],
   "source": [
    "print(medidas(60,57,89))"
   ]
  },
  {
   "cell_type": "code",
   "execution_count": 12,
   "metadata": {},
   "outputs": [],
   "source": [
    "def promedio2(values):\n",
    "    total = sum(values)\n",
    "    numero_de_tanques = len(values)\n",
    "    return total / numero_de_tanques"
   ]
  },
  {
   "cell_type": "code",
   "execution_count": 14,
   "metadata": {},
   "outputs": [
    {
     "name": "stdout",
     "output_type": "stream",
     "text": [
      "informe:\n",
      "    Promedio: 88.0%\n",
      "    Tanque 1: 77%\n",
      "    Tanque 2: 88%\n",
      "    Tanque 3: 99%\n",
      "    \n"
     ]
    }
   ],
   "source": [
    "def medidas(tanque1, tanque2, tanque3):\n",
    "    return f\"\"\"informe:\n",
    "    Promedio: {promedio2([tanque1, tanque2, tanque3])}%\n",
    "    Tanque 1: {tanque1}%\n",
    "    Tanque 2: {tanque2}%\n",
    "    Tanque 3: {tanque3}%\n",
    "    \"\"\"\n",
    "\n",
    "print(medidas(77,88,99))"
   ]
  },
  {
   "cell_type": "markdown",
   "metadata": {},
   "source": [
    "# Ejercicio 2: Trabajo con argumentos de palabra clave"
   ]
  },
  {
   "cell_type": "code",
   "execution_count": 1,
   "metadata": {},
   "outputs": [
    {
     "name": "stdout",
     "output_type": "stream",
     "text": [
      "\n",
      "    Destino: Marte\n",
      "    Tiempo de vuelo total: 43\n",
      "    Combustible restante: 176\n",
      "    \n"
     ]
    }
   ],
   "source": [
    "# Función con un informe preciso de la misión. Considera hora de prelanzamiento, tiempo de vuelo, destino, tanque externo y tanque interno\n",
    "\n",
    "def informacion(lanzamiento, tiempo, destino, tanque_int, tanque_ext):\n",
    "    return f\"\"\"\n",
    "    Destino: {destino}\n",
    "    Tiempo de vuelo total: {lanzamiento + tiempo}\n",
    "    Combustible restante: {tanque_int + tanque_ext}\n",
    "    \"\"\"\n",
    "\n",
    "print(informacion(8, 35, \"Marte\", 88, 88))\n"
   ]
  },
  {
   "cell_type": "code",
   "execution_count": 2,
   "metadata": {},
   "outputs": [
    {
     "name": "stdout",
     "output_type": "stream",
     "text": [
      "\n",
      "    Destino: Marte\n",
      "    Tiempo de vuelo total: 74\n",
      "    Combustible restante: 26000\n",
      "    \n"
     ]
    }
   ],
   "source": [
    "def informacion(destino, *minutes, **fuel_reservoirs):\n",
    "    return f\"\"\"\n",
    "    Destino: {destino}\n",
    "    Tiempo de vuelo total: {sum(minutes)}\n",
    "    Combustible restante: {sum(fuel_reservoirs.values())}\n",
    "    \"\"\"\n",
    "    for nombre_tanque, litros in fuel_reservoirs.items:\n",
    "        informacion += f\"{nombre_tanque} Tanque -> {litros} restantes\"\n",
    "    return informacion\n",
    "\n",
    "print(informacion(\"Marte\", 8, 11, 55, interno=12000, externo=14000))"
   ]
  }
 ],
 "metadata": {
  "interpreter": {
   "hash": "0a81184f6c8b89faa63577cb44cbd838349f7bc18a7add2bb8e91fb9af2cd2c9"
  },
  "kernelspec": {
   "display_name": "Python 3.10.1 64-bit",
   "language": "python",
   "name": "python3"
  },
  "language_info": {
   "codemirror_mode": {
    "name": "ipython",
    "version": 3
   },
   "file_extension": ".py",
   "mimetype": "text/x-python",
   "name": "python",
   "nbconvert_exporter": "python",
   "pygments_lexer": "ipython3",
   "version": "3.10.1"
  },
  "orig_nbformat": 4
 },
 "nbformat": 4,
 "nbformat_minor": 2
}
